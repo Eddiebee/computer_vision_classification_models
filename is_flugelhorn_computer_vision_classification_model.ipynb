{
  "nbformat": 4,
  "nbformat_minor": 0,
  "metadata": {
    "colab": {
      "provenance": [],
      "authorship_tag": "ABX9TyOcKvCX/DQUC95bHbVuGoB/",
      "include_colab_link": true
    },
    "kernelspec": {
      "name": "python3",
      "display_name": "Python 3"
    },
    "language_info": {
      "name": "python"
    }
  },
  "cells": [
    {
      "cell_type": "markdown",
      "metadata": {
        "id": "view-in-github",
        "colab_type": "text"
      },
      "source": [
        "<a href=\"https://colab.research.google.com/github/Eddiebee/computer_vision_classification_models/blob/main/is_flugelhorn_computer_vision_classification_model.ipynb\" target=\"_parent\"><img src=\"https://colab.research.google.com/assets/colab-badge.svg\" alt=\"Open In Colab\"/></a>"
      ]
    },
    {
      "cell_type": "code",
      "source": [
        "!pip install -Uqq fastai duckduckgo_search"
      ],
      "metadata": {
        "id": "WT0X_DirIP44"
      },
      "execution_count": null,
      "outputs": []
    },
    {
      "cell_type": "markdown",
      "source": [
        "**A computer vision model to predict if an image is that of a flugelhorn**"
      ],
      "metadata": {
        "id": "vfAAK0K6G9UF"
      }
    },
    {
      "cell_type": "markdown",
      "source": [
        "The basic steps are:\n",
        "\n",
        "\n",
        "1.   Use DuckDuckGo to search for images of \"flugelhorn photos\"\n",
        "2.   Use DuckDuckGo to search for images of \"trumpet photos\"\n",
        "3. Fine-tune a pretrained neural network to recognise these two groups.\n",
        "4. Try running this model on a picture of a flugelhorn and see if it works.\n",
        "\n"
      ],
      "metadata": {
        "id": "CuUmc5WZHk15"
      }
    },
    {
      "cell_type": "code",
      "execution_count": null,
      "metadata": {
        "id": "gFMOnLP1G2Dy"
      },
      "outputs": [],
      "source": [
        "from duckduckgo_search import ddg_images\n",
        "from fastcore.all import *\n",
        "\n",
        "def search_images(term, max_images=30):\n",
        "  print(f\"Searching for '{term}'\")\n",
        "  return L(ddg_images(term, max_results=max_images)).itemgot('image')"
      ]
    },
    {
      "cell_type": "code",
      "source": [
        "# we'll start by searching for a flugelhorn photo and see the result we get\n",
        "urls = search_images('flugelhorn photos', max_images=1)\n",
        "urls[0]"
      ],
      "metadata": {
        "id": "wBxOjNeAJT8H"
      },
      "execution_count": null,
      "outputs": []
    },
    {
      "cell_type": "code",
      "source": [
        "# let's then download the URL and take a look at it:\n",
        "from fastdownload import download_url\n",
        "dest = \"flugelhorn.jpg\"\n",
        "download_url(urls[0], dest, show_progress=False)\n",
        "\n",
        "from fastai.vision.all import *\n",
        "img = Image.open(dest)\n",
        "img.to_thumb(256, 256)"
      ],
      "metadata": {
        "id": "589sn4yeJpuo"
      },
      "execution_count": null,
      "outputs": []
    },
    {
      "cell_type": "code",
      "source": [
        "# we're gonna do the same thing for a trumpet photo\n",
        "download_url(search_images('trumpet photos', max_images=1)[0], 'trumpet.jpg',\n",
        "             show_progress=False)\n",
        "Image.open('trumpet.jpg').to_thumb(256, 256)"
      ],
      "metadata": {
        "id": "YUsrup1lKuS_"
      },
      "execution_count": null,
      "outputs": []
    },
    {
      "cell_type": "code",
      "source": [
        "# I believe this a getting more of the data needed to train our model\n",
        "\n",
        "searches = 'flugelhorn', 'trumpet'\n",
        "path = Path('flugelhorn_or_not')\n",
        "from time import sleep\n",
        "\n",
        "for search in searches:\n",
        "  dest = (path/search)\n",
        "  dest.mkdir(exist_ok=True, parents=True)\n",
        "  download_images(dest, urls=search_images(f'{search} photo'))\n",
        "  sleep(10) # Pause between searched to avoid over-loading the server\n",
        "  download_images(dest, urls=search_images(f'{search} gold photo'))\n",
        "  sleep(10)\n",
        "  download_images(dest, urls=search_images(f'{search} silver photo'))\n",
        "  sleep(10)\n",
        "  resize_images(path/search, max_size=400, dest=path/search)"
      ],
      "metadata": {
        "id": "lWxE0ArVLVZd"
      },
      "execution_count": null,
      "outputs": []
    },
    {
      "cell_type": "code",
      "source": [
        "failed = verify_images(get_image_files(path))\n",
        "failed.map(Path.unlink)\n",
        "len(failed)"
      ],
      "metadata": {
        "id": "q3Ry51ktOhmx"
      },
      "execution_count": null,
      "outputs": []
    },
    {
      "cell_type": "markdown",
      "source": [
        "To train a model, we'll use the DataLoaders."
      ],
      "metadata": {
        "id": "SsJP8MIlPdX4"
      }
    },
    {
      "cell_type": "code",
      "source": [
        "dls = DataBlock(\n",
        "  blocks=(ImageBlock, CategoryBlock),\n",
        "  get_items=get_image_files,\n",
        "  splitter=RandomSplitter(valid_pct=0.2, seed=42),\n",
        "  get_y=parent_label,\n",
        "  item_tfms=[Resize(192, method='squish')]\n",
        ").dataloaders(path, bs=32)\n",
        "\n",
        "\n",
        "dls.show_batch(max_n=6)"
      ],
      "metadata": {
        "id": "oj0KV2aNO88v"
      },
      "execution_count": null,
      "outputs": []
    },
    {
      "cell_type": "code",
      "source": [
        "learn = vision_learner(dls, resnet18, metrics=error_rate)\n",
        "learn.fine_tune(8)"
      ],
      "metadata": {
        "id": "KLFcxAgwQqDe"
      },
      "execution_count": null,
      "outputs": []
    },
    {
      "cell_type": "markdown",
      "source": [
        "\"Fine-tuning\" a model means that we're starting a _pretrained model_, and adjusting the weights a little bit so hat the model learns to recognise our particular dataset."
      ],
      "metadata": {
        "id": "v3hzp6frRFQb"
      }
    },
    {
      "cell_type": "code",
      "source": [
        "is_flugelhorn,_,probs = learn.predict(PILImage.create('flugelhorn.jpg'))\n",
        "print(f\"This is a: {is_flugelhorn}.\")\n",
        "print(f\"Probability it's a flugelhorn: {probs[0]:.4f}\")"
      ],
      "metadata": {
        "id": "UAHLSKnxQ7o7"
      },
      "execution_count": null,
      "outputs": []
    },
    {
      "cell_type": "markdown",
      "source": [
        "**Wow!**"
      ],
      "metadata": {
        "id": "RaePrSjESi0X"
      }
    }
  ]
}